{
 "cells": [
  {
   "cell_type": "markdown",
   "metadata": {},
   "source": [
    "### Question 1 : What's the version of Mage we run?\n",
    "\n",
    "### Answer : 0.9.70\n",
    "\n"
   ]
  },
  {
   "cell_type": "markdown",
   "metadata": {},
   "source": [
    "### Question 2: How many lines are in the created metadata.yaml file? [Creating a project]\n",
    "\n",
    "### Answer : 55"
   ]
  },
  {
   "cell_type": "markdown",
   "metadata": {},
   "source": [
    "## Question 3: How many records did we load?\n",
    "\n",
    "### Answer : 3,403,766"
   ]
  },
  {
   "cell_type": "markdown",
   "metadata": {},
   "source": []
  },
  {
   "cell_type": "markdown",
   "metadata": {},
   "source": [
    "## Question 4: What's the size of the result?\n",
    "\n",
    "### Answer: 3,316,216"
   ]
  },
  {
   "cell_type": "markdown",
   "metadata": {},
   "source": [
    "## Question 5 :  [Training] What's the intercept of the model?\n",
    "\n",
    "### Answer : Intercept is 24.77"
   ]
  }
 ],
 "metadata": {
  "language_info": {
   "name": "python"
  }
 },
 "nbformat": 4,
 "nbformat_minor": 2
}
