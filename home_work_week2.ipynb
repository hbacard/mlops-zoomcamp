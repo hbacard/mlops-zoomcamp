{
 "cells": [
  {
   "cell_type": "code",
   "execution_count": 1,
   "id": "a279a425",
   "metadata": {},
   "outputs": [],
   "source": [
    "# ! pip install mlflow"
   ]
  },
  {
   "cell_type": "code",
   "execution_count": 12,
   "id": "98161905",
   "metadata": {},
   "outputs": [],
   "source": [
    "import mlflow\n",
    "import os"
   ]
  },
  {
   "cell_type": "code",
   "execution_count": 13,
   "id": "312f4952",
   "metadata": {},
   "outputs": [
    {
     "name": "stdout",
     "output_type": "stream",
     "text": [
      "mlflow, version 2.13.0\n"
     ]
    }
   ],
   "source": [
    "! mlflow --version"
   ]
  },
  {
   "cell_type": "code",
   "execution_count": 3,
   "id": "9be73c95-58db-44b2-a2a7-d2ae404fb139",
   "metadata": {},
   "outputs": [],
   "source": [
    "TAXI_DATA_DIR = \"taxi_data\"\n",
    "os.makedirs(TAXI_DATA_DIR, exist_ok=True)"
   ]
  },
  {
   "cell_type": "markdown",
   "id": "854752d3-f7be-403c-8e23-daa9727f1c17",
   "metadata": {},
   "source": [
    "### Downloading data"
   ]
  },
  {
   "cell_type": "code",
   "execution_count": 4,
   "id": "8ebd0183-2a44-4293-bbf0-64db32632e6c",
   "metadata": {},
   "outputs": [],
   "source": [
    "link_taxi_jan = \"https://d37ci6vzurychx.cloudfront.net/trip-data/green_tripdata_2023-01.parquet\"\n",
    "link_taxi_feb = \"https://d37ci6vzurychx.cloudfront.net/trip-data/green_tripdata_2023-02.parquet\"\n",
    "link_taxi_mar = \"https://d37ci6vzurychx.cloudfront.net/trip-data/green_tripdata_2023-03.parquet\""
   ]
  },
  {
   "cell_type": "code",
   "execution_count": 6,
   "id": "d3c70172-a049-4bf0-a19f-fb22566834f3",
   "metadata": {},
   "outputs": [
    {
     "name": "stdout",
     "output_type": "stream",
     "text": [
      "--2024-05-22 21:02:27--  https://d37ci6vzurychx.cloudfront.net/trip-data/green_tripdata_2023-01.parquet\n",
      "Résolution de d37ci6vzurychx.cloudfront.net (d37ci6vzurychx.cloudfront.net)… 18.155.128.6, 18.155.128.222, 18.155.128.187, ...\n",
      "Connexion à d37ci6vzurychx.cloudfront.net (d37ci6vzurychx.cloudfront.net)|18.155.128.6|:443… connecté.\n",
      "requête HTTP transmise, en attente de la réponse… 200 OK\n",
      "Taille : 1427002 (1,4M) [binary/octet-stream]\n",
      "Sauvegarde en : « taxi_data/green_tripdata_2023-01.parquet »\n",
      "\n",
      "green_tripdata_2023 100%[===================>]   1,36M  --.-KB/s    ds 0,06s   \n",
      "\n",
      "2024-05-22 21:02:28 (24,0 MB/s) — « taxi_data/green_tripdata_2023-01.parquet » sauvegardé [1427002/1427002]\n",
      "\n",
      "--2024-05-22 21:02:28--  https://d37ci6vzurychx.cloudfront.net/trip-data/green_tripdata_2023-02.parquet\n",
      "Résolution de d37ci6vzurychx.cloudfront.net (d37ci6vzurychx.cloudfront.net)… 18.155.128.6, 18.155.128.222, 18.155.128.187, ...\n",
      "Connexion à d37ci6vzurychx.cloudfront.net (d37ci6vzurychx.cloudfront.net)|18.155.128.6|:443… connecté.\n",
      "requête HTTP transmise, en attente de la réponse… 200 OK\n",
      "Taille : 1533740 (1,5M) [binary/octet-stream]\n",
      "Sauvegarde en : « taxi_data/green_tripdata_2023-02.parquet »\n",
      "\n",
      "green_tripdata_2023 100%[===================>]   1,46M  --.-KB/s    ds 0,05s   \n",
      "\n",
      "2024-05-22 21:02:28 (28,1 MB/s) — « taxi_data/green_tripdata_2023-02.parquet » sauvegardé [1533740/1533740]\n",
      "\n",
      "--2024-05-22 21:02:28--  https://d37ci6vzurychx.cloudfront.net/trip-data/green_tripdata_2023-03.parquet\n",
      "Résolution de d37ci6vzurychx.cloudfront.net (d37ci6vzurychx.cloudfront.net)… 18.155.128.6, 18.155.128.222, 18.155.128.187, ...\n",
      "Connexion à d37ci6vzurychx.cloudfront.net (d37ci6vzurychx.cloudfront.net)|18.155.128.6|:443… connecté.\n",
      "requête HTTP transmise, en attente de la réponse… 200 OK\n",
      "Taille : 1730999 (1,7M) [binary/octet-stream]\n",
      "Sauvegarde en : « taxi_data/green_tripdata_2023-03.parquet »\n",
      "\n",
      "green_tripdata_2023 100%[===================>]   1,65M  --.-KB/s    ds 0,06s   \n",
      "\n",
      "2024-05-22 21:02:28 (28,6 MB/s) — « taxi_data/green_tripdata_2023-03.parquet » sauvegardé [1730999/1730999]\n",
      "\n"
     ]
    }
   ],
   "source": [
    "! wget {link_taxi_jan} -P {TAXI_DATA_DIR}\n",
    "! wget {link_taxi_feb} -P {TAXI_DATA_DIR}\n",
    "! wget {link_taxi_mar} -P {TAXI_DATA_DIR}"
   ]
  },
  {
   "cell_type": "code",
   "execution_count": 5,
   "id": "91925baf-4c88-4b7a-aa6f-e970aa09f3ff",
   "metadata": {},
   "outputs": [
    {
     "name": "stdout",
     "output_type": "stream",
     "text": [
      "green_tripdata_2023-01.parquet green_tripdata_2023-03.parquet\n",
      "green_tripdata_2023-02.parquet\n"
     ]
    }
   ],
   "source": [
    "! ls {TAXI_DATA_DIR}"
   ]
  },
  {
   "cell_type": "markdown",
   "id": "001e9967-5442-46eb-b369-f819974fe00e",
   "metadata": {},
   "source": [
    "### Running Preprocess script"
   ]
  },
  {
   "cell_type": "code",
   "execution_count": 6,
   "id": "d98911fa-a132-40b1-a7da-20b1a62147f3",
   "metadata": {},
   "outputs": [],
   "source": [
    "! python homework/preprocess_data.py --raw_data_path {TAXI_DATA_DIR} --dest_path ./output"
   ]
  },
  {
   "cell_type": "code",
   "execution_count": 7,
   "id": "af48cb51-d69f-49d8-a882-48f85a1c6740",
   "metadata": {},
   "outputs": [
    {
     "name": "stdout",
     "output_type": "stream",
     "text": [
      "       4\n"
     ]
    }
   ],
   "source": [
    "! ls output | wc -l"
   ]
  },
  {
   "cell_type": "markdown",
   "id": "0d881a78-3cfc-445d-90ef-297037df061b",
   "metadata": {},
   "source": [
    "### Answer to Q2 : 4 files"
   ]
  },
  {
   "cell_type": "markdown",
   "id": "403cc53c-d54a-4d19-844b-5f1863d2f9a3",
   "metadata": {},
   "source": [
    "## Q3: Train a model with autolog"
   ]
  },
  {
   "cell_type": "code",
   "execution_count": 8,
   "id": "e7139980",
   "metadata": {},
   "outputs": [],
   "source": [
    "from homework import train\n",
    "from pathlib import Path"
   ]
  },
  {
   "cell_type": "code",
   "execution_count": 9,
   "id": "a4695c49-899d-450b-a40d-4e71febb8f2e",
   "metadata": {},
   "outputs": [
    {
     "data": {
      "text/plain": [
       "['train.pkl', 'val.pkl', 'dv.pkl', 'test.pkl']"
      ]
     },
     "execution_count": 9,
     "metadata": {},
     "output_type": "execute_result"
    }
   ],
   "source": [
    "data_path = Path(\"./output\")\n",
    "os.listdir(data_path)"
   ]
  },
  {
   "cell_type": "code",
   "execution_count": 10,
   "id": "e6b0d524",
   "metadata": {},
   "outputs": [
    {
     "data": {
      "text/plain": [
       "'output'"
      ]
     },
     "execution_count": 10,
     "metadata": {},
     "output_type": "execute_result"
    }
   ],
   "source": [
    "str(data_path)"
   ]
  },
  {
   "cell_type": "markdown",
   "id": "de0bd621",
   "metadata": {},
   "source": [
    "### We modify the train script by commenting out the "
   ]
  },
  {
   "cell_type": "code",
   "execution_count": 14,
   "id": "6fdc1d64-f885-4c27-be91-7f7d3183e5fb",
   "metadata": {},
   "outputs": [
    {
     "name": "stderr",
     "output_type": "stream",
     "text": [
      "/opt/homebrew/anaconda3/envs/testenv/lib/python3.9/site-packages/sklearn/metrics/_regression.py:483: FutureWarning: 'squared' is deprecated in version 1.4 and will be removed in 1.6. To calculate the root mean squared error, use the function'root_mean_squared_error'.\n",
      "  warnings.warn(\n"
     ]
    }
   ],
   "source": [
    "with mlflow.start_run():\n",
    "    rmse = train.trainer(data_path=str(data_path))\n",
    "    mlflow.log_metric(\"rmse\", rmse)"
   ]
  },
  {
   "cell_type": "code",
   "execution_count": null,
   "id": "91212117-0b19-404d-a42c-91d83c1c86a3",
   "metadata": {},
   "outputs": [],
   "source": []
  }
 ],
 "metadata": {
  "kernelspec": {
   "display_name": "Python 3 (ipykernel)",
   "language": "python",
   "name": "python3"
  },
  "language_info": {
   "codemirror_mode": {
    "name": "ipython",
    "version": 3
   },
   "file_extension": ".py",
   "mimetype": "text/x-python",
   "name": "python",
   "nbconvert_exporter": "python",
   "pygments_lexer": "ipython3",
   "version": "3.9.16"
  }
 },
 "nbformat": 4,
 "nbformat_minor": 5
}
