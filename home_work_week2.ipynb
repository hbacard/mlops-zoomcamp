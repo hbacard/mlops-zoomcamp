{
 "cells": [
  {
   "cell_type": "code",
   "execution_count": 1,
   "id": "a279a425",
   "metadata": {},
   "outputs": [],
   "source": [
    "# ! pip install mlflow"
   ]
  },
  {
   "cell_type": "code",
   "execution_count": 2,
   "id": "98161905",
   "metadata": {},
   "outputs": [],
   "source": [
    "import mlflow\n",
    "import os"
   ]
  },
  {
   "cell_type": "code",
   "execution_count": 3,
   "id": "312f4952",
   "metadata": {},
   "outputs": [
    {
     "name": "stdout",
     "output_type": "stream",
     "text": [
      "mlflow, version 2.13.0\n"
     ]
    }
   ],
   "source": [
    "! mlflow --version"
   ]
  },
  {
   "cell_type": "code",
   "execution_count": 4,
   "id": "9be73c95-58db-44b2-a2a7-d2ae404fb139",
   "metadata": {},
   "outputs": [],
   "source": [
    "TAXI_DATA_DIR = \"taxi_data\"\n",
    "os.makedirs(TAXI_DATA_DIR, exist_ok=True)"
   ]
  },
  {
   "cell_type": "markdown",
   "id": "854752d3-f7be-403c-8e23-daa9727f1c17",
   "metadata": {},
   "source": [
    "### Downloading data"
   ]
  },
  {
   "cell_type": "code",
   "execution_count": 5,
   "id": "8ebd0183-2a44-4293-bbf0-64db32632e6c",
   "metadata": {},
   "outputs": [],
   "source": [
    "link_taxi_jan = \"https://d37ci6vzurychx.cloudfront.net/trip-data/green_tripdata_2023-01.parquet\"\n",
    "link_taxi_feb = \"https://d37ci6vzurychx.cloudfront.net/trip-data/green_tripdata_2023-02.parquet\"\n",
    "link_taxi_mar = \"https://d37ci6vzurychx.cloudfront.net/trip-data/green_tripdata_2023-03.parquet\"\n",
    "\n",
    "\n",
    "download_links = [link_taxi_jan, link_taxi_feb, link_taxi_mar]\n"
   ]
  },
  {
   "cell_type": "code",
   "execution_count": 6,
   "id": "d3c70172-a049-4bf0-a19f-fb22566834f3",
   "metadata": {},
   "outputs": [
    {
     "name": "stdout",
     "output_type": "stream",
     "text": [
      "green_tripdata_2023-01.parquet already exists.\n",
      "green_tripdata_2023-02.parquet already exists.\n",
      "green_tripdata_2023-03.parquet already exists.\n"
     ]
    }
   ],
   "source": [
    "\n",
    "import subprocess\n",
    "\n",
    "def download_parquet_files():\n",
    "    for link in download_links:\n",
    "        parquet_file_name = link.split(\"/\")[-1]\n",
    "        output_path = os.path.join(TAXI_DATA_DIR, parquet_file_name)\n",
    "        if not os.path.exists(output_path):\n",
    "            cmd = ['wget', '-O', output_path, link]\n",
    "            result = subprocess.run(cmd)\n",
    "            if result.returncode == 0:\n",
    "                print(f\"Downloaded {parquet_file_name}\")\n",
    "            else:\n",
    "                print(f\"Failed to download {parquet_file_name}: {result.stderr}\")\n",
    "        else:\n",
    "            print(f\"{parquet_file_name} already exists.\")\n",
    "\n",
    "download_parquet_files()\n",
    "\n",
    "# Uncomment to download directly without loop\n",
    "#! wget {link_taxi_jan} -P {TAXI_DATA_DIR}\n",
    "#! wget {link_taxi_feb} -P {TAXI_DATA_DIR}\n",
    "#! wget {link_taxi_mar} -P {TAXI_DATA_DIR}"
   ]
  },
  {
   "cell_type": "code",
   "execution_count": 7,
   "id": "91925baf-4c88-4b7a-aa6f-e970aa09f3ff",
   "metadata": {},
   "outputs": [
    {
     "name": "stdout",
     "output_type": "stream",
     "text": [
      "green_tripdata_2023-01.parquet\tgreen_tripdata_2023-03.parquet\n",
      "green_tripdata_2023-02.parquet\n"
     ]
    }
   ],
   "source": [
    "! ls {TAXI_DATA_DIR}"
   ]
  },
  {
   "cell_type": "markdown",
   "id": "001e9967-5442-46eb-b369-f819974fe00e",
   "metadata": {},
   "source": [
    "### Running Preprocess script"
   ]
  },
  {
   "cell_type": "code",
   "execution_count": 8,
   "id": "d98911fa-a132-40b1-a7da-20b1a62147f3",
   "metadata": {},
   "outputs": [],
   "source": [
    "! python homework/preprocess_data.py --raw_data_path {TAXI_DATA_DIR} --dest_path ./output"
   ]
  },
  {
   "cell_type": "code",
   "execution_count": 9,
   "id": "af48cb51-d69f-49d8-a882-48f85a1c6740",
   "metadata": {},
   "outputs": [
    {
     "name": "stdout",
     "output_type": "stream",
     "text": [
      "4\n",
      "dv.pkl\ttest.pkl  train.pkl  val.pkl\n"
     ]
    }
   ],
   "source": [
    "! ls output | wc -l\n",
    "! ls output"
   ]
  },
  {
   "cell_type": "markdown",
   "id": "0d881a78-3cfc-445d-90ef-297037df061b",
   "metadata": {},
   "source": [
    "### Answer to Q2 : 4 files"
   ]
  },
  {
   "cell_type": "markdown",
   "id": "403cc53c-d54a-4d19-844b-5f1863d2f9a3",
   "metadata": {},
   "source": [
    "## Q3: Train a model with autolog"
   ]
  },
  {
   "cell_type": "code",
   "execution_count": 10,
   "id": "e7139980",
   "metadata": {},
   "outputs": [],
   "source": [
    "from homework import train\n",
    "from pathlib import Path"
   ]
  },
  {
   "cell_type": "code",
   "execution_count": 11,
   "id": "a4695c49-899d-450b-a40d-4e71febb8f2e",
   "metadata": {},
   "outputs": [
    {
     "data": {
      "text/plain": [
       "['val.pkl', 'test.pkl', 'dv.pkl', 'train.pkl']"
      ]
     },
     "execution_count": 11,
     "metadata": {},
     "output_type": "execute_result"
    }
   ],
   "source": [
    "data_path = Path(\"./output\")\n",
    "os.listdir(data_path)"
   ]
  },
  {
   "cell_type": "markdown",
   "id": "de0bd621",
   "metadata": {},
   "source": [
    "### We have modified the train script"
   ]
  },
  {
   "cell_type": "code",
   "execution_count": 12,
   "id": "6fdc1d64-f885-4c27-be91-7f7d3183e5fb",
   "metadata": {},
   "outputs": [
    {
     "name": "stderr",
     "output_type": "stream",
     "text": [
      "/home/codespace/anaconda3/envs/week2-env/lib/python3.9/site-packages/sklearn/metrics/_regression.py:492: FutureWarning: 'squared' is deprecated in version 1.4 and will be removed in 1.6. To calculate the root mean squared error, use the function'root_mean_squared_error'.\n",
      "  warnings.warn(\n"
     ]
    }
   ],
   "source": [
    "with mlflow.start_run():\n",
    "    rmse, min_samples_split  = train.trainer(data_path=str(data_path))\n",
    "    mlflow.log_metric(\"rmse\", rmse)\n",
    "    mlflow.log_param(\"min_samples_split\", min_samples_split)\n"
   ]
  },
  {
   "cell_type": "code",
   "execution_count": 13,
   "id": "91212117-0b19-404d-a42c-91d83c1c86a3",
   "metadata": {},
   "outputs": [
    {
     "data": {
      "text/plain": [
       "5.431162180141208"
      ]
     },
     "execution_count": 13,
     "metadata": {},
     "output_type": "execute_result"
    }
   ],
   "source": [
    "rmse"
   ]
  },
  {
   "cell_type": "code",
   "execution_count": 14,
   "id": "f4cf3935-7a8a-449b-9e0a-a42b96b94648",
   "metadata": {},
   "outputs": [
    {
     "data": {
      "text/plain": [
       "2"
      ]
     },
     "execution_count": 14,
     "metadata": {},
     "output_type": "execute_result"
    }
   ],
   "source": [
    "min_samples_split"
   ]
  },
  {
   "cell_type": "markdown",
   "id": "69e7ac91-9f0b-452b-913b-c07c0d916171",
   "metadata": {},
   "source": [
    "### Answer to Q3 : min_samples_split is 2"
   ]
  },
  {
   "cell_type": "markdown",
   "id": "df1b8434-734a-4049-a590-2d0f870a5e31",
   "metadata": {},
   "source": [
    "## Q4. Launch the tracking server locally"
   ]
  },
  {
   "cell_type": "code",
   "execution_count": 15,
   "id": "79dfb782-c882-4fa5-ad72-e51f25346484",
   "metadata": {},
   "outputs": [],
   "source": [
    "# ! mlflow ui --backend-store-uri sqlite:///taxi_duration.db --default-artifact-root artifacts"
   ]
  },
  {
   "cell_type": "code",
   "execution_count": 16,
   "id": "14cabc5a",
   "metadata": {},
   "outputs": [],
   "source": [
    "# To kill mlflow server kill `lsof -i :5000`"
   ]
  },
  {
   "cell_type": "markdown",
   "id": "5bd35ff9-fb1b-4e51-89d8-20fb48d81ab4",
   "metadata": {},
   "source": [
    "### Answer to Q4 : default-artifact-root"
   ]
  },
  {
   "cell_type": "markdown",
   "id": "795af7b6-86ae-4d76-9c98-d72c68753a6a",
   "metadata": {},
   "source": [
    "## Q5. Tune model hyperparameters"
   ]
  },
  {
   "cell_type": "code",
   "execution_count": 17,
   "id": "574613d4-82cd-4c3e-8888-78c6049eeaf9",
   "metadata": {},
   "outputs": [],
   "source": [
    "# ! pip install hyperopt"
   ]
  },
  {
   "cell_type": "code",
   "execution_count": 18,
   "id": "f2ece6aa-41f5-4229-8608-3417a8c62f72",
   "metadata": {},
   "outputs": [
    {
     "name": "stdout",
     "output_type": "stream",
     "text": [
      "2024/05/24 17:18:46 INFO mlflow.tracking.fluent: Experiment with name 'random-forest-hyperopt' does not exist. Creating a new experiment.\n",
      "  0%|                                    | 0/15 [00:00<?, ?trial/s, best loss=?]/home/codespace/anaconda3/envs/week2-env/lib/python3.9/site-packages/sklearn/metrics/_regression.py:492: FutureWarning: 'squared' is deprecated in version 1.4 and will be removed in 1.6. To calculate the root mean squared error, use the function'root_mean_squared_error'.\n",
      "  warnings.warn(\n",
      "\n",
      "  7%|▋          | 1/15 [00:07<01:49,  7.84s/trial, best loss: 5.370086069268862]/home/codespace/anaconda3/envs/week2-env/lib/python3.9/site-packages/sklearn/metrics/_regression.py:492: FutureWarning: 'squared' is deprecated in version 1.4 and will be removed in 1.6. To calculate the root mean squared error, use the function'root_mean_squared_error'.\n",
      "  warnings.warn(\n",
      "\n",
      " 13%|█▍         | 2/15 [00:08<00:44,  3.45s/trial, best loss: 5.370086069268862]/home/codespace/anaconda3/envs/week2-env/lib/python3.9/site-packages/sklearn/metrics/_regression.py:492: FutureWarning: 'squared' is deprecated in version 1.4 and will be removed in 1.6. To calculate the root mean squared error, use the function'root_mean_squared_error'.\n",
      "  warnings.warn(\n",
      "\n",
      " 20%|██▏        | 3/15 [00:08<00:25,  2.13s/trial, best loss: 5.370086069268862]/home/codespace/anaconda3/envs/week2-env/lib/python3.9/site-packages/sklearn/metrics/_regression.py:492: FutureWarning: 'squared' is deprecated in version 1.4 and will be removed in 1.6. To calculate the root mean squared error, use the function'root_mean_squared_error'.\n",
      "  warnings.warn(\n",
      "\n",
      " 27%|██▉        | 4/15 [00:14<00:37,  3.38s/trial, best loss: 5.357490752366866]/home/codespace/anaconda3/envs/week2-env/lib/python3.9/site-packages/sklearn/metrics/_regression.py:492: FutureWarning: 'squared' is deprecated in version 1.4 and will be removed in 1.6. To calculate the root mean squared error, use the function'root_mean_squared_error'.\n",
      "  warnings.warn(\n",
      "\n",
      " 33%|███▋       | 5/15 [00:16<00:30,  3.09s/trial, best loss: 5.357490752366866]/home/codespace/anaconda3/envs/week2-env/lib/python3.9/site-packages/sklearn/metrics/_regression.py:492: FutureWarning: 'squared' is deprecated in version 1.4 and will be removed in 1.6. To calculate the root mean squared error, use the function'root_mean_squared_error'.\n",
      "  warnings.warn(\n",
      "\n",
      " 40%|████▍      | 6/15 [00:25<00:45,  5.07s/trial, best loss: 5.354695072530291]/home/codespace/anaconda3/envs/week2-env/lib/python3.9/site-packages/sklearn/metrics/_regression.py:492: FutureWarning: 'squared' is deprecated in version 1.4 and will be removed in 1.6. To calculate the root mean squared error, use the function'root_mean_squared_error'.\n",
      "  warnings.warn(\n",
      "\n",
      " 47%|█████▏     | 7/15 [00:34<00:49,  6.23s/trial, best loss: 5.354695072530291]/home/codespace/anaconda3/envs/week2-env/lib/python3.9/site-packages/sklearn/metrics/_regression.py:492: FutureWarning: 'squared' is deprecated in version 1.4 and will be removed in 1.6. To calculate the root mean squared error, use the function'root_mean_squared_error'.\n",
      "  warnings.warn(\n",
      "\n",
      " 53%|█████▊     | 8/15 [00:35<00:31,  4.57s/trial, best loss: 5.354695072530291]/home/codespace/anaconda3/envs/week2-env/lib/python3.9/site-packages/sklearn/metrics/_regression.py:492: FutureWarning: 'squared' is deprecated in version 1.4 and will be removed in 1.6. To calculate the root mean squared error, use the function'root_mean_squared_error'.\n",
      "  warnings.warn(\n",
      "\n",
      " 60%|██████▌    | 9/15 [00:40<00:28,  4.83s/trial, best loss: 5.354695072530291]/home/codespace/anaconda3/envs/week2-env/lib/python3.9/site-packages/sklearn/metrics/_regression.py:492: FutureWarning: 'squared' is deprecated in version 1.4 and will be removed in 1.6. To calculate the root mean squared error, use the function'root_mean_squared_error'.\n",
      "  warnings.warn(\n",
      "\n",
      " 67%|██████▋   | 10/15 [00:45<00:23,  4.73s/trial, best loss: 5.354695072530291]/home/codespace/anaconda3/envs/week2-env/lib/python3.9/site-packages/sklearn/metrics/_regression.py:492: FutureWarning: 'squared' is deprecated in version 1.4 and will be removed in 1.6. To calculate the root mean squared error, use the function'root_mean_squared_error'.\n",
      "  warnings.warn(\n",
      "\n",
      " 73%|███████▎  | 11/15 [00:48<00:17,  4.30s/trial, best loss: 5.335419588556921]/home/codespace/anaconda3/envs/week2-env/lib/python3.9/site-packages/sklearn/metrics/_regression.py:492: FutureWarning: 'squared' is deprecated in version 1.4 and will be removed in 1.6. To calculate the root mean squared error, use the function'root_mean_squared_error'.\n",
      "  warnings.warn(\n",
      "\n",
      " 80%|████████  | 12/15 [00:51<00:11,  3.87s/trial, best loss: 5.335419588556921]/home/codespace/anaconda3/envs/week2-env/lib/python3.9/site-packages/sklearn/metrics/_regression.py:492: FutureWarning: 'squared' is deprecated in version 1.4 and will be removed in 1.6. To calculate the root mean squared error, use the function'root_mean_squared_error'.\n",
      "  warnings.warn(\n",
      "\n",
      " 87%|████████▋ | 13/15 [00:52<00:05,  2.99s/trial, best loss: 5.335419588556921]/home/codespace/anaconda3/envs/week2-env/lib/python3.9/site-packages/sklearn/metrics/_regression.py:492: FutureWarning: 'squared' is deprecated in version 1.4 and will be removed in 1.6. To calculate the root mean squared error, use the function'root_mean_squared_error'.\n",
      "  warnings.warn(\n",
      "\n",
      " 93%|█████████▎| 14/15 [00:55<00:03,  3.05s/trial, best loss: 5.335419588556921]/home/codespace/anaconda3/envs/week2-env/lib/python3.9/site-packages/sklearn/metrics/_regression.py:492: FutureWarning: 'squared' is deprecated in version 1.4 and will be removed in 1.6. To calculate the root mean squared error, use the function'root_mean_squared_error'.\n",
      "  warnings.warn(\n",
      "\n",
      "100%|██████████| 15/15 [01:00<00:00,  4.03s/trial, best loss: 5.335419588556921]\n"
     ]
    }
   ],
   "source": [
    "! python homework/hpo.py"
   ]
  },
  {
   "cell_type": "markdown",
   "id": "8b39b7ff-cecb-4051-9680-32726b3b3732",
   "metadata": {},
   "source": [
    "### Answer to Q5 : best RMSE = 5.335"
   ]
  },
  {
   "cell_type": "markdown",
   "id": "c96798d9",
   "metadata": {},
   "source": [
    "## Q6. Promote the best model to the model registry"
   ]
  },
  {
   "cell_type": "code",
   "execution_count": 19,
   "id": "2dfe7abc",
   "metadata": {},
   "outputs": [
    {
     "name": "stdout",
     "output_type": "stream",
     "text": [
      "2024/05/24 17:19:49 INFO mlflow.tracking.fluent: Experiment with name 'random-forest-best-models' does not exist. Creating a new experiment.\n",
      "2024/05/24 17:19:49 WARNING mlflow.utils.autologging_utils: You are using an unsupported version of sklearn. If you encounter errors during autologging, try upgrading / downgrading sklearn to a supported version, or try upgrading MLflow.\n",
      "2024/05/24 17:19:50 WARNING mlflow.sklearn: Failed to log training dataset information to MLflow Tracking. Reason: 'numpy.ndarray' object has no attribute 'toarray'\n",
      "2024/05/24 17:19:56 WARNING mlflow.utils.autologging_utils: MLflow autologging encountered a warning: \"/home/codespace/anaconda3/envs/week2-env/lib/python3.9/site-packages/_distutils_hack/__init__.py:26: UserWarning: Setuptools is replacing distutils.\"\n",
      "/home/codespace/anaconda3/envs/week2-env/lib/python3.9/site-packages/sklearn/metrics/_regression.py:492: FutureWarning: 'squared' is deprecated in version 1.4 and will be removed in 1.6. To calculate the root mean squared error, use the function'root_mean_squared_error'.\n",
      "  warnings.warn(\n",
      "/home/codespace/anaconda3/envs/week2-env/lib/python3.9/site-packages/sklearn/metrics/_regression.py:492: FutureWarning: 'squared' is deprecated in version 1.4 and will be removed in 1.6. To calculate the root mean squared error, use the function'root_mean_squared_error'.\n",
      "  warnings.warn(\n",
      "2024/05/24 17:20:01 WARNING mlflow.sklearn: Failed to log training dataset information to MLflow Tracking. Reason: 'numpy.ndarray' object has no attribute 'toarray'\n",
      "/home/codespace/anaconda3/envs/week2-env/lib/python3.9/site-packages/sklearn/metrics/_regression.py:492: FutureWarning: 'squared' is deprecated in version 1.4 and will be removed in 1.6. To calculate the root mean squared error, use the function'root_mean_squared_error'.\n",
      "  warnings.warn(\n",
      "/home/codespace/anaconda3/envs/week2-env/lib/python3.9/site-packages/sklearn/metrics/_regression.py:492: FutureWarning: 'squared' is deprecated in version 1.4 and will be removed in 1.6. To calculate the root mean squared error, use the function'root_mean_squared_error'.\n",
      "  warnings.warn(\n",
      "2024/05/24 17:20:13 WARNING mlflow.sklearn: Failed to log training dataset information to MLflow Tracking. Reason: 'numpy.ndarray' object has no attribute 'toarray'\n",
      "/home/codespace/anaconda3/envs/week2-env/lib/python3.9/site-packages/sklearn/metrics/_regression.py:492: FutureWarning: 'squared' is deprecated in version 1.4 and will be removed in 1.6. To calculate the root mean squared error, use the function'root_mean_squared_error'.\n",
      "  warnings.warn(\n",
      "/home/codespace/anaconda3/envs/week2-env/lib/python3.9/site-packages/sklearn/metrics/_regression.py:492: FutureWarning: 'squared' is deprecated in version 1.4 and will be removed in 1.6. To calculate the root mean squared error, use the function'root_mean_squared_error'.\n",
      "  warnings.warn(\n",
      "2024/05/24 17:20:22 WARNING mlflow.sklearn: Failed to log training dataset information to MLflow Tracking. Reason: 'numpy.ndarray' object has no attribute 'toarray'\n",
      "/home/codespace/anaconda3/envs/week2-env/lib/python3.9/site-packages/sklearn/metrics/_regression.py:492: FutureWarning: 'squared' is deprecated in version 1.4 and will be removed in 1.6. To calculate the root mean squared error, use the function'root_mean_squared_error'.\n",
      "  warnings.warn(\n",
      "/home/codespace/anaconda3/envs/week2-env/lib/python3.9/site-packages/sklearn/metrics/_regression.py:492: FutureWarning: 'squared' is deprecated in version 1.4 and will be removed in 1.6. To calculate the root mean squared error, use the function'root_mean_squared_error'.\n",
      "  warnings.warn(\n",
      "2024/05/24 17:20:31 WARNING mlflow.sklearn: Failed to log training dataset information to MLflow Tracking. Reason: 'numpy.ndarray' object has no attribute 'toarray'\n",
      "/home/codespace/anaconda3/envs/week2-env/lib/python3.9/site-packages/sklearn/metrics/_regression.py:492: FutureWarning: 'squared' is deprecated in version 1.4 and will be removed in 1.6. To calculate the root mean squared error, use the function'root_mean_squared_error'.\n",
      "  warnings.warn(\n",
      "/home/codespace/anaconda3/envs/week2-env/lib/python3.9/site-packages/sklearn/metrics/_regression.py:492: FutureWarning: 'squared' is deprecated in version 1.4 and will be removed in 1.6. To calculate the root mean squared error, use the function'root_mean_squared_error'.\n",
      "  warnings.warn(\n",
      "Successfully registered model 'rf-duration-prediction'.\n",
      "2024/05/24 17:20:38 INFO mlflow.store.model_registry.abstract_store: Waiting up to 300 seconds for model version to finish creation. Model name: rf-duration-prediction, version 1\n",
      "Created version '1' of model 'rf-duration-prediction'.\n"
     ]
    }
   ],
   "source": [
    "! python homework/register_model.py"
   ]
  },
  {
   "cell_type": "markdown",
   "id": "c62f10a5",
   "metadata": {},
   "source": [
    "### Answer to Q6 :  test RMSE of the best model is 5.567"
   ]
  },
  {
   "cell_type": "code",
   "execution_count": null,
   "id": "84398c0e",
   "metadata": {},
   "outputs": [],
   "source": []
  }
 ],
 "metadata": {
  "kernelspec": {
   "display_name": "Python 3 (ipykernel)",
   "language": "python",
   "name": "python3"
  },
  "language_info": {
   "codemirror_mode": {
    "name": "ipython",
    "version": 3
   },
   "file_extension": ".py",
   "mimetype": "text/x-python",
   "name": "python",
   "nbconvert_exporter": "python",
   "pygments_lexer": "ipython3",
   "version": "3.9.19"
  }
 },
 "nbformat": 4,
 "nbformat_minor": 5
}
