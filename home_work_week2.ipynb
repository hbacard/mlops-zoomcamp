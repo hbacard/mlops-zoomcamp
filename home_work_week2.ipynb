{
 "cells": [
  {
   "cell_type": "code",
   "execution_count": 1,
   "id": "a279a425",
   "metadata": {},
   "outputs": [],
   "source": [
    "# ! pip install mlflow"
   ]
  },
  {
   "cell_type": "code",
   "execution_count": 1,
   "id": "98161905",
   "metadata": {},
   "outputs": [],
   "source": [
    "import mlflow\n",
    "import os"
   ]
  },
  {
   "cell_type": "code",
   "execution_count": 2,
   "id": "312f4952",
   "metadata": {},
   "outputs": [
    {
     "name": "stdout",
     "output_type": "stream",
     "text": [
      "mlflow, version 2.13.0\n"
     ]
    }
   ],
   "source": [
    "! mlflow --version"
   ]
  },
  {
   "cell_type": "code",
   "execution_count": 3,
   "id": "9be73c95-58db-44b2-a2a7-d2ae404fb139",
   "metadata": {},
   "outputs": [],
   "source": [
    "TAXI_DATA_DIR = \"taxi_data\"\n",
    "os.makedirs(TAXI_DATA_DIR, exist_ok=True)"
   ]
  },
  {
   "cell_type": "markdown",
   "id": "854752d3-f7be-403c-8e23-daa9727f1c17",
   "metadata": {},
   "source": [
    "### Downloading data"
   ]
  },
  {
   "cell_type": "code",
   "execution_count": 4,
   "id": "8ebd0183-2a44-4293-bbf0-64db32632e6c",
   "metadata": {},
   "outputs": [],
   "source": [
    "link_taxi_jan = \"https://d37ci6vzurychx.cloudfront.net/trip-data/green_tripdata_2023-01.parquet\"\n",
    "link_taxi_feb = \"https://d37ci6vzurychx.cloudfront.net/trip-data/green_tripdata_2023-02.parquet\"\n",
    "link_taxi_mar = \"https://d37ci6vzurychx.cloudfront.net/trip-data/green_tripdata_2023-03.parquet\""
   ]
  },
  {
   "cell_type": "code",
   "execution_count": 5,
   "id": "d3c70172-a049-4bf0-a19f-fb22566834f3",
   "metadata": {},
   "outputs": [],
   "source": [
    "# Uncomment to download\n",
    "#! wget {link_taxi_jan} -P {TAXI_DATA_DIR}\n",
    "#! wget {link_taxi_feb} -P {TAXI_DATA_DIR}\n",
    "#! wget {link_taxi_mar} -P {TAXI_DATA_DIR}"
   ]
  },
  {
   "cell_type": "code",
   "execution_count": 6,
   "id": "91925baf-4c88-4b7a-aa6f-e970aa09f3ff",
   "metadata": {},
   "outputs": [
    {
     "name": "stdout",
     "output_type": "stream",
     "text": [
      "green_tripdata_2023-01.parquet\tgreen_tripdata_2023-03.parquet\n",
      "green_tripdata_2023-02.parquet\n"
     ]
    }
   ],
   "source": [
    "! ls {TAXI_DATA_DIR}"
   ]
  },
  {
   "cell_type": "markdown",
   "id": "001e9967-5442-46eb-b369-f819974fe00e",
   "metadata": {},
   "source": [
    "### Running Preprocess script"
   ]
  },
  {
   "cell_type": "code",
   "execution_count": 7,
   "id": "d98911fa-a132-40b1-a7da-20b1a62147f3",
   "metadata": {},
   "outputs": [],
   "source": [
    "! python homework/preprocess_data.py --raw_data_path {TAXI_DATA_DIR} --dest_path ./output"
   ]
  },
  {
   "cell_type": "code",
   "execution_count": 8,
   "id": "af48cb51-d69f-49d8-a882-48f85a1c6740",
   "metadata": {},
   "outputs": [
    {
     "name": "stdout",
     "output_type": "stream",
     "text": [
      "4\n"
     ]
    }
   ],
   "source": [
    "! ls output | wc -l"
   ]
  },
  {
   "cell_type": "markdown",
   "id": "0d881a78-3cfc-445d-90ef-297037df061b",
   "metadata": {},
   "source": [
    "### Answer to Q2 : 4 files"
   ]
  },
  {
   "cell_type": "markdown",
   "id": "403cc53c-d54a-4d19-844b-5f1863d2f9a3",
   "metadata": {},
   "source": [
    "## Q3: Train a model with autolog"
   ]
  },
  {
   "cell_type": "code",
   "execution_count": 9,
   "id": "e7139980",
   "metadata": {},
   "outputs": [],
   "source": [
    "from homework import train\n",
    "from pathlib import Path"
   ]
  },
  {
   "cell_type": "code",
   "execution_count": 10,
   "id": "a4695c49-899d-450b-a40d-4e71febb8f2e",
   "metadata": {},
   "outputs": [
    {
     "data": {
      "text/plain": [
       "['val.pkl', 'test.pkl', 'dv.pkl', 'train.pkl']"
      ]
     },
     "execution_count": 10,
     "metadata": {},
     "output_type": "execute_result"
    }
   ],
   "source": [
    "data_path = Path(\"./output\")\n",
    "os.listdir(data_path)"
   ]
  },
  {
   "cell_type": "markdown",
   "id": "de0bd621",
   "metadata": {},
   "source": [
    "### We have modified the train script"
   ]
  },
  {
   "cell_type": "code",
   "execution_count": 14,
   "id": "6fdc1d64-f885-4c27-be91-7f7d3183e5fb",
   "metadata": {},
   "outputs": [
    {
     "name": "stderr",
     "output_type": "stream",
     "text": [
      "/home/codespace/anaconda3/envs/week2-env/lib/python3.9/site-packages/sklearn/metrics/_regression.py:492: FutureWarning: 'squared' is deprecated in version 1.4 and will be removed in 1.6. To calculate the root mean squared error, use the function'root_mean_squared_error'.\n",
      "  warnings.warn(\n"
     ]
    }
   ],
   "source": [
    "with mlflow.start_run():\n",
    "    rmse, min_samples_split  = train.trainer(data_path=str(data_path))\n",
    "    mlflow.log_metric(\"rmse\", rmse)\n",
    "    mlflow.log_param(\"min_samples_split\", min_samples_split)\n"
   ]
  },
  {
   "cell_type": "code",
   "execution_count": 15,
   "id": "91212117-0b19-404d-a42c-91d83c1c86a3",
   "metadata": {},
   "outputs": [
    {
     "data": {
      "text/plain": [
       "5.431162180141208"
      ]
     },
     "execution_count": 15,
     "metadata": {},
     "output_type": "execute_result"
    }
   ],
   "source": [
    "rmse"
   ]
  },
  {
   "cell_type": "code",
   "execution_count": 16,
   "id": "f4cf3935-7a8a-449b-9e0a-a42b96b94648",
   "metadata": {},
   "outputs": [
    {
     "data": {
      "text/plain": [
       "2"
      ]
     },
     "execution_count": 16,
     "metadata": {},
     "output_type": "execute_result"
    }
   ],
   "source": [
    "min_samples_split"
   ]
  },
  {
   "cell_type": "markdown",
   "id": "69e7ac91-9f0b-452b-913b-c07c0d916171",
   "metadata": {},
   "source": [
    "### Answer to Q3 : min_samples_split is 2"
   ]
  },
  {
   "cell_type": "markdown",
   "id": "df1b8434-734a-4049-a590-2d0f870a5e31",
   "metadata": {},
   "source": [
    "## Q4. Launch the tracking server locally"
   ]
  },
  {
   "cell_type": "code",
   "execution_count": 6,
   "id": "79dfb782-c882-4fa5-ad72-e51f25346484",
   "metadata": {},
   "outputs": [],
   "source": [
    "# ! mlflow ui --backend-store-uri sqlite:///taxi_duration.db --default-artifact-root artifacts"
   ]
  },
  {
   "cell_type": "code",
   "execution_count": 5,
   "id": "14cabc5a",
   "metadata": {},
   "outputs": [],
   "source": [
    "# To kill mlflow server kill `lsof -i :5000`"
   ]
  },
  {
   "cell_type": "markdown",
   "id": "5bd35ff9-fb1b-4e51-89d8-20fb48d81ab4",
   "metadata": {},
   "source": [
    "### Answer to Q4 : default-artifact-root"
   ]
  },
  {
   "cell_type": "markdown",
   "id": "795af7b6-86ae-4d76-9c98-d72c68753a6a",
   "metadata": {},
   "source": [
    "## Q5. Tune model hyperparameters"
   ]
  },
  {
   "cell_type": "code",
   "execution_count": 9,
   "id": "574613d4-82cd-4c3e-8888-78c6049eeaf9",
   "metadata": {},
   "outputs": [],
   "source": [
    "# ! pip install hyperopt"
   ]
  },
  {
   "cell_type": "code",
   "execution_count": 11,
   "id": "f2ece6aa-41f5-4229-8608-3417a8c62f72",
   "metadata": {},
   "outputs": [
    {
     "name": "stdout",
     "output_type": "stream",
     "text": [
      "  0%|                                    | 0/15 [00:00<?, ?trial/s, best loss=?]/opt/homebrew/anaconda3/envs/testenv/lib/python3.9/site-packages/sklearn/metrics/_regression.py:483: FutureWarning: 'squared' is deprecated in version 1.4 and will be removed in 1.6. To calculate the root mean squared error, use the function'root_mean_squared_error'.\n",
      "  warnings.warn(\n",
      "\n",
      "  7%|▋          | 1/15 [00:03<00:48,  3.47s/trial, best loss: 5.370086069268862]/opt/homebrew/anaconda3/envs/testenv/lib/python3.9/site-packages/sklearn/metrics/_regression.py:483: FutureWarning: 'squared' is deprecated in version 1.4 and will be removed in 1.6. To calculate the root mean squared error, use the function'root_mean_squared_error'.\n",
      "  warnings.warn(\n",
      "\n",
      " 13%|█▍         | 2/15 [00:03<00:20,  1.57s/trial, best loss: 5.370086069268862]/opt/homebrew/anaconda3/envs/testenv/lib/python3.9/site-packages/sklearn/metrics/_regression.py:483: FutureWarning: 'squared' is deprecated in version 1.4 and will be removed in 1.6. To calculate the root mean squared error, use the function'root_mean_squared_error'.\n",
      "  warnings.warn(\n",
      "\n",
      " 20%|██▏        | 3/15 [00:04<00:12,  1.08s/trial, best loss: 5.370086069268862]/opt/homebrew/anaconda3/envs/testenv/lib/python3.9/site-packages/sklearn/metrics/_regression.py:483: FutureWarning: 'squared' is deprecated in version 1.4 and will be removed in 1.6. To calculate the root mean squared error, use the function'root_mean_squared_error'.\n",
      "  warnings.warn(\n",
      "\n",
      " 27%|██▉        | 4/15 [00:06<00:17,  1.57s/trial, best loss: 5.357490752366866]/opt/homebrew/anaconda3/envs/testenv/lib/python3.9/site-packages/sklearn/metrics/_regression.py:483: FutureWarning: 'squared' is deprecated in version 1.4 and will be removed in 1.6. To calculate the root mean squared error, use the function'root_mean_squared_error'.\n",
      "  warnings.warn(\n",
      "\n",
      " 33%|███▋       | 5/15 [00:07<00:14,  1.44s/trial, best loss: 5.357490752366866]/opt/homebrew/anaconda3/envs/testenv/lib/python3.9/site-packages/sklearn/metrics/_regression.py:483: FutureWarning: 'squared' is deprecated in version 1.4 and will be removed in 1.6. To calculate the root mean squared error, use the function'root_mean_squared_error'.\n",
      "  warnings.warn(\n",
      "\n",
      " 40%|████▍      | 6/15 [00:11<00:20,  2.29s/trial, best loss: 5.354700855292386]/opt/homebrew/anaconda3/envs/testenv/lib/python3.9/site-packages/sklearn/metrics/_regression.py:483: FutureWarning: 'squared' is deprecated in version 1.4 and will be removed in 1.6. To calculate the root mean squared error, use the function'root_mean_squared_error'.\n",
      "  warnings.warn(\n",
      "\n",
      " 47%|█████▏     | 7/15 [00:15<00:21,  2.74s/trial, best loss: 5.354700855292386]/opt/homebrew/anaconda3/envs/testenv/lib/python3.9/site-packages/sklearn/metrics/_regression.py:483: FutureWarning: 'squared' is deprecated in version 1.4 and will be removed in 1.6. To calculate the root mean squared error, use the function'root_mean_squared_error'.\n",
      "  warnings.warn(\n",
      "\n",
      " 53%|█████▊     | 8/15 [00:15<00:14,  2.02s/trial, best loss: 5.354700855292386]/opt/homebrew/anaconda3/envs/testenv/lib/python3.9/site-packages/sklearn/metrics/_regression.py:483: FutureWarning: 'squared' is deprecated in version 1.4 and will be removed in 1.6. To calculate the root mean squared error, use the function'root_mean_squared_error'.\n",
      "  warnings.warn(\n",
      "\n",
      " 60%|██████▌    | 9/15 [00:18<00:12,  2.16s/trial, best loss: 5.354700855292386]/opt/homebrew/anaconda3/envs/testenv/lib/python3.9/site-packages/sklearn/metrics/_regression.py:483: FutureWarning: 'squared' is deprecated in version 1.4 and will be removed in 1.6. To calculate the root mean squared error, use the function'root_mean_squared_error'.\n",
      "  warnings.warn(\n",
      "\n",
      " 67%|██████▋   | 10/15 [00:20<00:10,  2.19s/trial, best loss: 5.354700855292386]/opt/homebrew/anaconda3/envs/testenv/lib/python3.9/site-packages/sklearn/metrics/_regression.py:483: FutureWarning: 'squared' is deprecated in version 1.4 and will be removed in 1.6. To calculate the root mean squared error, use the function'root_mean_squared_error'.\n",
      "  warnings.warn(\n",
      "\n",
      " 73%|███████▎  | 11/15 [00:22<00:08,  2.00s/trial, best loss: 5.335419588556921]/opt/homebrew/anaconda3/envs/testenv/lib/python3.9/site-packages/sklearn/metrics/_regression.py:483: FutureWarning: 'squared' is deprecated in version 1.4 and will be removed in 1.6. To calculate the root mean squared error, use the function'root_mean_squared_error'.\n",
      "  warnings.warn(\n",
      "\n",
      " 80%|████████  | 12/15 [00:23<00:05,  1.82s/trial, best loss: 5.335419588556921]/opt/homebrew/anaconda3/envs/testenv/lib/python3.9/site-packages/sklearn/metrics/_regression.py:483: FutureWarning: 'squared' is deprecated in version 1.4 and will be removed in 1.6. To calculate the root mean squared error, use the function'root_mean_squared_error'.\n",
      "  warnings.warn(\n",
      "\n",
      " 87%|████████▋ | 13/15 [00:24<00:02,  1.43s/trial, best loss: 5.335419588556921]/opt/homebrew/anaconda3/envs/testenv/lib/python3.9/site-packages/sklearn/metrics/_regression.py:483: FutureWarning: 'squared' is deprecated in version 1.4 and will be removed in 1.6. To calculate the root mean squared error, use the function'root_mean_squared_error'.\n",
      "  warnings.warn(\n",
      "\n",
      " 93%|█████████▎| 14/15 [00:25<00:01,  1.42s/trial, best loss: 5.335419588556921]/opt/homebrew/anaconda3/envs/testenv/lib/python3.9/site-packages/sklearn/metrics/_regression.py:483: FutureWarning: 'squared' is deprecated in version 1.4 and will be removed in 1.6. To calculate the root mean squared error, use the function'root_mean_squared_error'.\n",
      "  warnings.warn(\n",
      "\n",
      "100%|██████████| 15/15 [00:27<00:00,  1.84s/trial, best loss: 5.335419588556921]\n"
     ]
    }
   ],
   "source": [
    "! python homework/hpo.py"
   ]
  },
  {
   "cell_type": "markdown",
   "id": "8b39b7ff-cecb-4051-9680-32726b3b3732",
   "metadata": {},
   "source": [
    "### Answer to Q5 : best RMSE = 5.335"
   ]
  },
  {
   "cell_type": "markdown",
   "id": "c96798d9",
   "metadata": {},
   "source": []
  }
 ],
 "metadata": {
  "kernelspec": {
   "display_name": "Python 3 (ipykernel)",
   "language": "python",
   "name": "python3"
  },
  "language_info": {
   "codemirror_mode": {
    "name": "ipython",
    "version": 3
   },
   "file_extension": ".py",
   "mimetype": "text/x-python",
   "name": "python",
   "nbconvert_exporter": "python",
   "pygments_lexer": "ipython3",
   "version": "3.9.16"
  }
 },
 "nbformat": 4,
 "nbformat_minor": 5
}
