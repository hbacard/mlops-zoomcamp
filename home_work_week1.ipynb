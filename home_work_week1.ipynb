{
 "cells": [
  {
   "cell_type": "code",
   "execution_count": 1,
   "id": "98161905",
   "metadata": {},
   "outputs": [],
   "source": [
    "import pandas as pd"
   ]
  },
  {
   "cell_type": "code",
   "execution_count": 2,
   "id": "312f4952",
   "metadata": {},
   "outputs": [
    {
     "data": {
      "text/plain": [
       "'1.4.2'"
      ]
     },
     "execution_count": 2,
     "metadata": {},
     "output_type": "execute_result"
    }
   ],
   "source": [
    "pd.__version__"
   ]
  },
  {
   "cell_type": "code",
   "execution_count": 3,
   "id": "e7139980",
   "metadata": {},
   "outputs": [],
   "source": [
    "#! pip install pyarrow"
   ]
  },
  {
   "cell_type": "code",
   "execution_count": 4,
   "id": "9bb0f127",
   "metadata": {},
   "outputs": [],
   "source": [
    "df_jan = pd.read_parquet('https://d37ci6vzurychx.cloudfront.net/trip-data/yellow_tripdata_2023-01.parquet', engine='pyarrow')"
   ]
  },
  {
   "cell_type": "code",
   "execution_count": 5,
   "id": "8ae299eb",
   "metadata": {},
   "outputs": [],
   "source": [
    "df_feb = pd.read_parquet('https://d37ci6vzurychx.cloudfront.net/trip-data/yellow_tripdata_2023-02.parquet', engine='pyarrow')"
   ]
  },
  {
   "cell_type": "code",
   "execution_count": 6,
   "id": "12856956",
   "metadata": {},
   "outputs": [
    {
     "data": {
      "text/html": [
       "<div>\n",
       "<style scoped>\n",
       "    .dataframe tbody tr th:only-of-type {\n",
       "        vertical-align: middle;\n",
       "    }\n",
       "\n",
       "    .dataframe tbody tr th {\n",
       "        vertical-align: top;\n",
       "    }\n",
       "\n",
       "    .dataframe thead th {\n",
       "        text-align: right;\n",
       "    }\n",
       "</style>\n",
       "<table border=\"1\" class=\"dataframe\">\n",
       "  <thead>\n",
       "    <tr style=\"text-align: right;\">\n",
       "      <th></th>\n",
       "      <th>VendorID</th>\n",
       "      <th>tpep_pickup_datetime</th>\n",
       "      <th>tpep_dropoff_datetime</th>\n",
       "      <th>passenger_count</th>\n",
       "      <th>trip_distance</th>\n",
       "      <th>RatecodeID</th>\n",
       "      <th>store_and_fwd_flag</th>\n",
       "      <th>PULocationID</th>\n",
       "      <th>DOLocationID</th>\n",
       "      <th>payment_type</th>\n",
       "      <th>fare_amount</th>\n",
       "      <th>extra</th>\n",
       "      <th>mta_tax</th>\n",
       "      <th>tip_amount</th>\n",
       "      <th>tolls_amount</th>\n",
       "      <th>improvement_surcharge</th>\n",
       "      <th>total_amount</th>\n",
       "      <th>congestion_surcharge</th>\n",
       "      <th>airport_fee</th>\n",
       "    </tr>\n",
       "  </thead>\n",
       "  <tbody>\n",
       "    <tr>\n",
       "      <th>0</th>\n",
       "      <td>2</td>\n",
       "      <td>2023-01-01 00:32:10</td>\n",
       "      <td>2023-01-01 00:40:36</td>\n",
       "      <td>1.0</td>\n",
       "      <td>0.97</td>\n",
       "      <td>1.0</td>\n",
       "      <td>N</td>\n",
       "      <td>161</td>\n",
       "      <td>141</td>\n",
       "      <td>2</td>\n",
       "      <td>9.3</td>\n",
       "      <td>1.0</td>\n",
       "      <td>0.5</td>\n",
       "      <td>0.0</td>\n",
       "      <td>0.0</td>\n",
       "      <td>1.0</td>\n",
       "      <td>14.3</td>\n",
       "      <td>2.5</td>\n",
       "      <td>0.0</td>\n",
       "    </tr>\n",
       "    <tr>\n",
       "      <th>1</th>\n",
       "      <td>2</td>\n",
       "      <td>2023-01-01 00:55:08</td>\n",
       "      <td>2023-01-01 01:01:27</td>\n",
       "      <td>1.0</td>\n",
       "      <td>1.10</td>\n",
       "      <td>1.0</td>\n",
       "      <td>N</td>\n",
       "      <td>43</td>\n",
       "      <td>237</td>\n",
       "      <td>1</td>\n",
       "      <td>7.9</td>\n",
       "      <td>1.0</td>\n",
       "      <td>0.5</td>\n",
       "      <td>4.0</td>\n",
       "      <td>0.0</td>\n",
       "      <td>1.0</td>\n",
       "      <td>16.9</td>\n",
       "      <td>2.5</td>\n",
       "      <td>0.0</td>\n",
       "    </tr>\n",
       "  </tbody>\n",
       "</table>\n",
       "</div>"
      ],
      "text/plain": [
       "   VendorID tpep_pickup_datetime tpep_dropoff_datetime  passenger_count  \\\n",
       "0         2  2023-01-01 00:32:10   2023-01-01 00:40:36              1.0   \n",
       "1         2  2023-01-01 00:55:08   2023-01-01 01:01:27              1.0   \n",
       "\n",
       "   trip_distance  RatecodeID store_and_fwd_flag  PULocationID  DOLocationID  \\\n",
       "0           0.97         1.0                  N           161           141   \n",
       "1           1.10         1.0                  N            43           237   \n",
       "\n",
       "   payment_type  fare_amount  extra  mta_tax  tip_amount  tolls_amount  \\\n",
       "0             2          9.3    1.0      0.5         0.0           0.0   \n",
       "1             1          7.9    1.0      0.5         4.0           0.0   \n",
       "\n",
       "   improvement_surcharge  total_amount  congestion_surcharge  airport_fee  \n",
       "0                    1.0          14.3                   2.5          0.0  \n",
       "1                    1.0          16.9                   2.5          0.0  "
      ]
     },
     "execution_count": 6,
     "metadata": {},
     "output_type": "execute_result"
    }
   ],
   "source": [
    "df_jan.head(2)"
   ]
  },
  {
   "cell_type": "code",
   "execution_count": 7,
   "id": "662221aa",
   "metadata": {},
   "outputs": [
    {
     "data": {
      "text/html": [
       "<div>\n",
       "<style scoped>\n",
       "    .dataframe tbody tr th:only-of-type {\n",
       "        vertical-align: middle;\n",
       "    }\n",
       "\n",
       "    .dataframe tbody tr th {\n",
       "        vertical-align: top;\n",
       "    }\n",
       "\n",
       "    .dataframe thead th {\n",
       "        text-align: right;\n",
       "    }\n",
       "</style>\n",
       "<table border=\"1\" class=\"dataframe\">\n",
       "  <thead>\n",
       "    <tr style=\"text-align: right;\">\n",
       "      <th></th>\n",
       "      <th>VendorID</th>\n",
       "      <th>tpep_pickup_datetime</th>\n",
       "      <th>tpep_dropoff_datetime</th>\n",
       "      <th>passenger_count</th>\n",
       "      <th>trip_distance</th>\n",
       "      <th>RatecodeID</th>\n",
       "      <th>store_and_fwd_flag</th>\n",
       "      <th>PULocationID</th>\n",
       "      <th>DOLocationID</th>\n",
       "      <th>payment_type</th>\n",
       "      <th>fare_amount</th>\n",
       "      <th>extra</th>\n",
       "      <th>mta_tax</th>\n",
       "      <th>tip_amount</th>\n",
       "      <th>tolls_amount</th>\n",
       "      <th>improvement_surcharge</th>\n",
       "      <th>total_amount</th>\n",
       "      <th>congestion_surcharge</th>\n",
       "      <th>Airport_fee</th>\n",
       "    </tr>\n",
       "  </thead>\n",
       "  <tbody>\n",
       "    <tr>\n",
       "      <th>0</th>\n",
       "      <td>1</td>\n",
       "      <td>2023-02-01 00:32:53</td>\n",
       "      <td>2023-02-01 00:34:34</td>\n",
       "      <td>2.0</td>\n",
       "      <td>0.3</td>\n",
       "      <td>1.0</td>\n",
       "      <td>N</td>\n",
       "      <td>142</td>\n",
       "      <td>163</td>\n",
       "      <td>2</td>\n",
       "      <td>4.4</td>\n",
       "      <td>3.5</td>\n",
       "      <td>0.5</td>\n",
       "      <td>0.0</td>\n",
       "      <td>0.0</td>\n",
       "      <td>1.0</td>\n",
       "      <td>9.4</td>\n",
       "      <td>2.5</td>\n",
       "      <td>0.0</td>\n",
       "    </tr>\n",
       "    <tr>\n",
       "      <th>1</th>\n",
       "      <td>2</td>\n",
       "      <td>2023-02-01 00:35:16</td>\n",
       "      <td>2023-02-01 00:35:30</td>\n",
       "      <td>1.0</td>\n",
       "      <td>0.0</td>\n",
       "      <td>1.0</td>\n",
       "      <td>N</td>\n",
       "      <td>71</td>\n",
       "      <td>71</td>\n",
       "      <td>4</td>\n",
       "      <td>-3.0</td>\n",
       "      <td>-1.0</td>\n",
       "      <td>-0.5</td>\n",
       "      <td>0.0</td>\n",
       "      <td>0.0</td>\n",
       "      <td>-1.0</td>\n",
       "      <td>-5.5</td>\n",
       "      <td>0.0</td>\n",
       "      <td>0.0</td>\n",
       "    </tr>\n",
       "  </tbody>\n",
       "</table>\n",
       "</div>"
      ],
      "text/plain": [
       "   VendorID tpep_pickup_datetime tpep_dropoff_datetime  passenger_count  \\\n",
       "0         1  2023-02-01 00:32:53   2023-02-01 00:34:34              2.0   \n",
       "1         2  2023-02-01 00:35:16   2023-02-01 00:35:30              1.0   \n",
       "\n",
       "   trip_distance  RatecodeID store_and_fwd_flag  PULocationID  DOLocationID  \\\n",
       "0            0.3         1.0                  N           142           163   \n",
       "1            0.0         1.0                  N            71            71   \n",
       "\n",
       "   payment_type  fare_amount  extra  mta_tax  tip_amount  tolls_amount  \\\n",
       "0             2          4.4    3.5      0.5         0.0           0.0   \n",
       "1             4         -3.0   -1.0     -0.5         0.0           0.0   \n",
       "\n",
       "   improvement_surcharge  total_amount  congestion_surcharge  Airport_fee  \n",
       "0                    1.0           9.4                   2.5          0.0  \n",
       "1                   -1.0          -5.5                   0.0          0.0  "
      ]
     },
     "execution_count": 7,
     "metadata": {},
     "output_type": "execute_result"
    }
   ],
   "source": [
    "df_feb.head(2)"
   ]
  },
  {
   "cell_type": "code",
   "execution_count": 8,
   "id": "001e7cc8",
   "metadata": {},
   "outputs": [
    {
     "data": {
      "text/plain": [
       "(3066766, 19)"
      ]
     },
     "execution_count": 8,
     "metadata": {},
     "output_type": "execute_result"
    }
   ],
   "source": [
    "df_jan.shape"
   ]
  },
  {
   "cell_type": "code",
   "execution_count": 9,
   "id": "5526cd69",
   "metadata": {},
   "outputs": [
    {
     "data": {
      "text/plain": [
       "(2913955, 19)"
      ]
     },
     "execution_count": 9,
     "metadata": {},
     "output_type": "execute_result"
    }
   ],
   "source": [
    "df_feb.shape"
   ]
  },
  {
   "cell_type": "markdown",
   "id": "09917229",
   "metadata": {},
   "source": [
    "### Q1 Read the data for January. How many columns are there?\n",
    "\n",
    "#### Answer to Q1 : 19  colums"
   ]
  },
  {
   "cell_type": "markdown",
   "id": "d925800e",
   "metadata": {},
   "source": [
    "### Q2 Computing duration : What's the standard deviation of the trips duration in January?\n",
    "\n"
   ]
  },
  {
   "cell_type": "code",
   "execution_count": 10,
   "id": "5b9b41d0",
   "metadata": {},
   "outputs": [],
   "source": [
    "# duration in minutes : dropoff - pickup\n",
    "\n",
    "df_jan[\"duration\"] = (df_jan.tpep_dropoff_datetime - df_jan.tpep_pickup_datetime).dt.total_seconds() / 60"
   ]
  },
  {
   "cell_type": "code",
   "execution_count": 11,
   "id": "156fdcf7",
   "metadata": {},
   "outputs": [
    {
     "data": {
      "text/plain": [
       "0           8.433333\n",
       "1           6.316667\n",
       "2          12.750000\n",
       "3           9.616667\n",
       "4          10.833333\n",
       "             ...    \n",
       "3066761    13.983333\n",
       "3066762    19.450000\n",
       "3066763    24.516667\n",
       "3066764    13.000000\n",
       "3066765    14.400000\n",
       "Name: duration, Length: 3066766, dtype: float64"
      ]
     },
     "execution_count": 11,
     "metadata": {},
     "output_type": "execute_result"
    }
   ],
   "source": [
    "df_jan.duration"
   ]
  },
  {
   "cell_type": "code",
   "execution_count": 12,
   "id": "27a42f59",
   "metadata": {},
   "outputs": [
    {
     "data": {
      "text/plain": [
       "count    3.066766e+06\n",
       "mean     1.566900e+01\n",
       "std      4.259435e+01\n",
       "min     -2.920000e+01\n",
       "25%      7.116667e+00\n",
       "50%      1.151667e+01\n",
       "75%      1.830000e+01\n",
       "max      1.002918e+04\n",
       "Name: duration, dtype: float64"
      ]
     },
     "execution_count": 12,
     "metadata": {},
     "output_type": "execute_result"
    }
   ],
   "source": [
    "df_jan.duration.describe()"
   ]
  },
  {
   "cell_type": "markdown",
   "id": "5af0d32c",
   "metadata": {},
   "source": [
    "#### Answer to Q2 : 42.59 "
   ]
  },
  {
   "cell_type": "markdown",
   "id": "7d0b02d4",
   "metadata": {},
   "source": [
    "### Q3. Dropping outliers : What fraction of the records left after you dropped the outliers?"
   ]
  },
  {
   "cell_type": "code",
   "execution_count": 13,
   "id": "5ec9c316",
   "metadata": {},
   "outputs": [],
   "source": [
    "import numpy as np \n",
    "df_jan[\"is_outlier\"] = np.logical_or(df_jan.duration <1, df_jan.duration >60)\n"
   ]
  },
  {
   "cell_type": "code",
   "execution_count": 14,
   "id": "68cba228",
   "metadata": {},
   "outputs": [
    {
     "data": {
      "text/plain": [
       "False    98.122028\n",
       "True      1.877972\n",
       "Name: is_outlier, dtype: float64"
      ]
     },
     "execution_count": 14,
     "metadata": {},
     "output_type": "execute_result"
    }
   ],
   "source": [
    "df_jan[\"is_outlier\"].value_counts(normalize=True) * 100"
   ]
  },
  {
   "cell_type": "markdown",
   "id": "36caafbf",
   "metadata": {},
   "source": [
    "#### Answer Q3 : Around 98% of the original dataset."
   ]
  },
  {
   "cell_type": "code",
   "execution_count": 15,
   "id": "9f856510",
   "metadata": {},
   "outputs": [],
   "source": [
    "# removing outlier\n",
    "df_jan = df_jan[~df_jan.is_outlier].reset_index(drop=True)\n",
    "# dropping is_outlier column\n",
    "df_jan = df_jan.drop(columns=[\"is_outlier\"])"
   ]
  },
  {
   "cell_type": "code",
   "execution_count": 16,
   "id": "e363a002",
   "metadata": {},
   "outputs": [
    {
     "data": {
      "text/plain": [
       "(3009173, 20)"
      ]
     },
     "execution_count": 16,
     "metadata": {},
     "output_type": "execute_result"
    }
   ],
   "source": [
    "df_jan.shape"
   ]
  },
  {
   "cell_type": "markdown",
   "id": "56cb4140",
   "metadata": {},
   "source": [
    "### Q4: One hot encoding"
   ]
  },
  {
   "cell_type": "code",
   "execution_count": 17,
   "id": "57954f5d",
   "metadata": {},
   "outputs": [],
   "source": [
    "categorical_features = ['PULocationID','DOLocationID']\n",
    "target_column = [\"duration\"] \n",
    "used_columns = categorical_features + target_column\n",
    "\n",
    "\n",
    "df_jan_used = df_jan[used_columns].copy()"
   ]
  },
  {
   "cell_type": "code",
   "execution_count": 18,
   "id": "608134e0",
   "metadata": {},
   "outputs": [
    {
     "data": {
      "text/html": [
       "<div>\n",
       "<style scoped>\n",
       "    .dataframe tbody tr th:only-of-type {\n",
       "        vertical-align: middle;\n",
       "    }\n",
       "\n",
       "    .dataframe tbody tr th {\n",
       "        vertical-align: top;\n",
       "    }\n",
       "\n",
       "    .dataframe thead th {\n",
       "        text-align: right;\n",
       "    }\n",
       "</style>\n",
       "<table border=\"1\" class=\"dataframe\">\n",
       "  <thead>\n",
       "    <tr style=\"text-align: right;\">\n",
       "      <th></th>\n",
       "      <th>PULocationID</th>\n",
       "      <th>DOLocationID</th>\n",
       "      <th>duration</th>\n",
       "    </tr>\n",
       "  </thead>\n",
       "  <tbody>\n",
       "    <tr>\n",
       "      <th>0</th>\n",
       "      <td>161</td>\n",
       "      <td>141</td>\n",
       "      <td>8.433333</td>\n",
       "    </tr>\n",
       "    <tr>\n",
       "      <th>1</th>\n",
       "      <td>43</td>\n",
       "      <td>237</td>\n",
       "      <td>6.316667</td>\n",
       "    </tr>\n",
       "    <tr>\n",
       "      <th>2</th>\n",
       "      <td>48</td>\n",
       "      <td>238</td>\n",
       "      <td>12.750000</td>\n",
       "    </tr>\n",
       "    <tr>\n",
       "      <th>3</th>\n",
       "      <td>138</td>\n",
       "      <td>7</td>\n",
       "      <td>9.616667</td>\n",
       "    </tr>\n",
       "    <tr>\n",
       "      <th>4</th>\n",
       "      <td>107</td>\n",
       "      <td>79</td>\n",
       "      <td>10.833333</td>\n",
       "    </tr>\n",
       "  </tbody>\n",
       "</table>\n",
       "</div>"
      ],
      "text/plain": [
       "   PULocationID  DOLocationID   duration\n",
       "0           161           141   8.433333\n",
       "1            43           237   6.316667\n",
       "2            48           238  12.750000\n",
       "3           138             7   9.616667\n",
       "4           107            79  10.833333"
      ]
     },
     "execution_count": 18,
     "metadata": {},
     "output_type": "execute_result"
    }
   ],
   "source": [
    "df_jan_used.head()"
   ]
  },
  {
   "cell_type": "code",
   "execution_count": 19,
   "id": "89f69407",
   "metadata": {},
   "outputs": [],
   "source": [
    "df_jan_used[categorical_features] = df_jan_used[categorical_features].astype(str)"
   ]
  },
  {
   "cell_type": "code",
   "execution_count": 20,
   "id": "966b01f4",
   "metadata": {},
   "outputs": [
    {
     "data": {
      "text/plain": [
       "PULocationID     object\n",
       "DOLocationID     object\n",
       "duration        float64\n",
       "dtype: object"
      ]
     },
     "execution_count": 20,
     "metadata": {},
     "output_type": "execute_result"
    }
   ],
   "source": [
    "df_jan_used.dtypes"
   ]
  },
  {
   "cell_type": "code",
   "execution_count": 21,
   "id": "3748acbc",
   "metadata": {},
   "outputs": [],
   "source": [
    "\n",
    "features_dict = df_jan_used[categorical_features].to_dict(orient='records')"
   ]
  },
  {
   "cell_type": "code",
   "execution_count": 22,
   "id": "7ff492aa",
   "metadata": {},
   "outputs": [
    {
     "data": {
      "text/plain": [
       "[{'PULocationID': '161', 'DOLocationID': '141'},\n",
       " {'PULocationID': '43', 'DOLocationID': '237'}]"
      ]
     },
     "execution_count": 22,
     "metadata": {},
     "output_type": "execute_result"
    }
   ],
   "source": [
    "features_dict[:2]"
   ]
  },
  {
   "cell_type": "code",
   "execution_count": 23,
   "id": "e9888c10",
   "metadata": {},
   "outputs": [],
   "source": [
    "from sklearn.feature_extraction import DictVectorizer"
   ]
  },
  {
   "cell_type": "code",
   "execution_count": 24,
   "id": "0329f664",
   "metadata": {},
   "outputs": [],
   "source": [
    "dv = DictVectorizer()\n",
    "vectorized_features = dv.fit_transform(features_dict)\n"
   ]
  },
  {
   "cell_type": "code",
   "execution_count": 25,
   "id": "809bd802",
   "metadata": {},
   "outputs": [
    {
     "name": "stdout",
     "output_type": "stream",
     "text": [
      "515\n"
     ]
    }
   ],
   "source": [
    "print(len(dv.feature_names_))"
   ]
  },
  {
   "cell_type": "markdown",
   "id": "bb1782d8",
   "metadata": {},
   "source": [
    "#### Answer to Q4 : Here we get 515 features"
   ]
  },
  {
   "cell_type": "markdown",
   "id": "d71cf5ea",
   "metadata": {},
   "source": [
    "## Modeling"
   ]
  },
  {
   "cell_type": "code",
   "execution_count": 26,
   "id": "8f1dcae7",
   "metadata": {},
   "outputs": [],
   "source": [
    "X_train = vectorized_features"
   ]
  },
  {
   "cell_type": "code",
   "execution_count": 27,
   "id": "17680ee9",
   "metadata": {},
   "outputs": [
    {
     "data": {
      "text/plain": [
       "array([ 8.43333333,  6.31666667, 12.75      , ..., 24.51666667,\n",
       "       13.        , 14.4       ])"
      ]
     },
     "execution_count": 27,
     "metadata": {},
     "output_type": "execute_result"
    }
   ],
   "source": [
    "y_train = df_jan_used[target_column].values.reshape(-1)\n",
    "y_train"
   ]
  },
  {
   "cell_type": "markdown",
   "id": "5d1437e5",
   "metadata": {},
   "source": [
    "#### Feature engineering pipeline"
   ]
  },
  {
   "cell_type": "code",
   "execution_count": 28,
   "id": "b3e10d99",
   "metadata": {},
   "outputs": [],
   "source": [
    "\n",
    "\n",
    "class DurationDataProcessor:\n",
    "\n",
    "    def compute_duration(self, X):\n",
    "        try:\n",
    "            X_transformed = X.copy()\n",
    "            X_transformed[\"duration\"] = X_transformed[\"tpep_dropoff_datetime\"] - X_transformed[\"tpep_pickup_datetime\"]\n",
    "            X_transformed[\"duration\"] = X_transformed[\"duration\"].dt.total_seconds() / 60\n",
    "            return X_transformed\n",
    "        except Exception as e:\n",
    "            return f\"The following error occured: {e}.\"\n",
    "\n",
    "    def remove_outlier(self, X, test_column, lower_bound=1, upper_bound=60, y=None):\n",
    "        X_transformed = X.copy()\n",
    "        try:\n",
    "            X_transformed = X_transformed[(X_transformed[test_column]>= lower_bound) & (X_transformed[test_column] <= upper_bound)]\n",
    "            return X_transformed\n",
    "        except Exception as e:\n",
    "            return f\"The following error occured: {e}.\"\n",
    "    \n",
    "    def get_dict_records(self, X, used_features:list[str], target_column: str):\n",
    "        try:\n",
    "            X_transformed = X.copy()\n",
    "            if not target_column in X_transformed.columns:\n",
    "                X_transformed = self.compute_duration(X_transformed)\n",
    "                target_column = \"duration\"\n",
    "            used_columns = used_features + [target_column]\n",
    "            X_transformed = X_transformed[used_columns].copy()\n",
    "            # remove outlier\n",
    "            X_transformed = self.remove_outlier(X=X_transformed, test_column=target_column)\n",
    "            y = X_transformed[target_column].copy().values\n",
    "            X_transformed_features = X_transformed[used_features].astype(str)\n",
    "            X_transformed_dict = X_transformed_features.to_dict(orient='records')\n",
    "            return X_transformed_dict, y\n",
    "        \n",
    "        except Exception as e:\n",
    "            return f\"The following error occured: {e}.\"\n",
    "\n",
    "    def extract_features_target(self, X, used_features:list[str], target_column: str, y=None):\n",
    "        try:\n",
    "            dv = DictVectorizer()\n",
    "            X_transformed = X.copy()\n",
    "            \n",
    "            X_transformed_dict, y = self.get_dict_records(X_transformed, used_features=used_features, target_column=target_column)\n",
    "            X_transformed_vectorized = dv.fit_transform(X_transformed_dict)\n",
    "            del X_transformed, X_transformed_dict\n",
    "            return X_transformed_vectorized, y, dv\n",
    "        \n",
    "        except Exception as e:\n",
    "            return f\"The following error occured: {e}.\"\n",
    "\n",
    "Processor = DurationDataProcessor()"
   ]
  },
  {
   "cell_type": "code",
   "execution_count": 29,
   "id": "dcd7d655",
   "metadata": {},
   "outputs": [],
   "source": [
    "X_train, y_train, dict_vectorizer = Processor.extract_features_target(X=df_jan, used_features=categorical_features, target_column=\"duration\")"
   ]
  },
  {
   "cell_type": "code",
   "execution_count": 30,
   "id": "11755763",
   "metadata": {},
   "outputs": [],
   "source": [
    "from sklearn.linear_model import LinearRegression\n",
    "\n",
    "lr = LinearRegression()"
   ]
  },
  {
   "cell_type": "code",
   "execution_count": 31,
   "id": "3b115786",
   "metadata": {},
   "outputs": [
    {
     "data": {
      "text/plain": [
       "LinearRegression()"
      ]
     },
     "execution_count": 31,
     "metadata": {},
     "output_type": "execute_result"
    }
   ],
   "source": [
    "# Training\n",
    "lr.fit(X_train, y_train)"
   ]
  },
  {
   "cell_type": "code",
   "execution_count": 32,
   "id": "e7c4cb55",
   "metadata": {},
   "outputs": [],
   "source": [
    "# Getting prediction for the training set\n",
    "y_train_pred = lr.predict(X_train)"
   ]
  },
  {
   "cell_type": "code",
   "execution_count": 33,
   "id": "9b6a50be",
   "metadata": {},
   "outputs": [
    {
     "data": {
      "text/plain": [
       "array([11.52727939, 10.89774748, 11.32572356, ..., 11.7376459 ,\n",
       "       12.70527119, 11.54227113])"
      ]
     },
     "execution_count": 33,
     "metadata": {},
     "output_type": "execute_result"
    }
   ],
   "source": [
    "y_train_pred"
   ]
  },
  {
   "cell_type": "code",
   "execution_count": 34,
   "id": "c057ade4",
   "metadata": {},
   "outputs": [],
   "source": [
    "from sklearn.metrics import mean_squared_error"
   ]
  },
  {
   "cell_type": "code",
   "execution_count": 35,
   "id": "ed66fea8",
   "metadata": {},
   "outputs": [
    {
     "name": "stdout",
     "output_type": "stream",
     "text": [
      "MSE on train : 58.51119427325481\n",
      "RMSE on train : 7.649261027919939\n"
     ]
    }
   ],
   "source": [
    "mse_train = mean_squared_error(y_train, y_train_pred)\n",
    "rmse_train = np.sqrt(mse_train)\n",
    "\n",
    "print(f\"MSE on train : {mse_train}\")\n",
    "print(f\"RMSE on train : {rmse_train}\")"
   ]
  },
  {
   "cell_type": "markdown",
   "id": "038a3297",
   "metadata": {},
   "source": [
    "#### Answer to Q5:  RMSE on train is 7.64"
   ]
  },
  {
   "cell_type": "markdown",
   "id": "f403aa0b",
   "metadata": {},
   "source": [
    "### Q6 Evaluating the model"
   ]
  },
  {
   "cell_type": "code",
   "execution_count": 36,
   "id": "9d354892",
   "metadata": {},
   "outputs": [],
   "source": [
    "X_feb, y_feb = Processor.get_dict_records(X=df_feb, used_features=categorical_features, target_column=\"duration\")"
   ]
  },
  {
   "cell_type": "code",
   "execution_count": 37,
   "id": "4da503f2",
   "metadata": {},
   "outputs": [],
   "source": [
    "y_test = y_feb\n",
    "X_test = dict_vectorizer.transform(X_feb)"
   ]
  },
  {
   "cell_type": "code",
   "execution_count": 38,
   "id": "88ec3ef7",
   "metadata": {},
   "outputs": [
    {
     "name": "stdout",
     "output_type": "stream",
     "text": [
      "MSE on test : 61.024729168390934\n",
      "RMSE on test : 7.811832638273232\n"
     ]
    }
   ],
   "source": [
    "y_test_pred = lr.predict(X_test)\n",
    "\n",
    "\n",
    "mse_test = mean_squared_error(y_test, y_test_pred)\n",
    "rmse_test = np.sqrt(mse_test)\n",
    "\n",
    "print(f\"MSE on test : {mse_test}\")\n",
    "print(f\"RMSE on test : {rmse_test}\")"
   ]
  },
  {
   "cell_type": "markdown",
   "id": "619517b5",
   "metadata": {},
   "source": [
    "### Answer to Q6 : RMSE is 7.81 on validation set"
   ]
  }
 ],
 "metadata": {
  "kernelspec": {
   "display_name": "Python 3 (ipykernel)",
   "language": "python",
   "name": "python3"
  },
  "language_info": {
   "codemirror_mode": {
    "name": "ipython",
    "version": 3
   },
   "file_extension": ".py",
   "mimetype": "text/x-python",
   "name": "python",
   "nbconvert_exporter": "python",
   "pygments_lexer": "ipython3",
   "version": "3.9.12"
  }
 },
 "nbformat": 4,
 "nbformat_minor": 5
}
